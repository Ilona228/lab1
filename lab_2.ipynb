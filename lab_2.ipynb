{
  "nbformat": 4,
  "nbformat_minor": 0,
  "metadata": {
    "colab": {
      "provenance": []
    },
    "kernelspec": {
      "name": "python3",
      "display_name": "Python 3"
    },
    "language_info": {
      "name": "python"
    }
  },
  "cells": [
    {
      "cell_type": "code",
      "source": [
        "def x(a, n):\n",
        "  v_nachalo = a // 10**n\n",
        "  v_konec=a%10\n",
        "  return v_nachalo, v_konec\n",
        "\n",
        "a=int(input(\"введите число пятизначное натуральное: \"))\n",
        "\n",
        "a1, a2= x(a,4)\n",
        "a=a//10\n",
        "a=a%1000\n",
        "a3, a4= x(a,2)\n",
        "\n",
        "b=(a1==a2)and(a3==a4)\n",
        "print(b)\n",
        "\n"
      ],
      "metadata": {
        "colab": {
          "base_uri": "https://localhost:8080/"
        },
        "id": "zcXtDRqT4C2T",
        "outputId": "f5e499a4-c1e5-4c17-9dbf-7fb70a8e8b89"
      },
      "execution_count": 1,
      "outputs": [
        {
          "output_type": "stream",
          "name": "stdout",
          "text": [
            "введите число пятизначное натуральное: 54345\n",
            "True\n"
          ]
        }
      ]
    }
  ]
}