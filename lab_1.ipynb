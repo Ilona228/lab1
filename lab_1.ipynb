{
  "nbformat": 4,
  "nbformat_minor": 0,
  "metadata": {
    "colab": {
      "provenance": []
    },
    "kernelspec": {
      "name": "python3",
      "display_name": "Python 3"
    },
    "language_info": {
      "name": "python"
    }
  },
  "cells": [
    {
      "cell_type": "code",
      "execution_count": 1,
      "metadata": {
        "colab": {
          "base_uri": "https://localhost:8080/"
        },
        "id": "R3kTFu-8xpr7",
        "outputId": "154602da-7f07-46df-8fdc-ae2435cb00af"
      },
      "outputs": [
        {
          "output_type": "stream",
          "name": "stdout",
          "text": [
            "как тебя зовут?Илона\n",
            "приветствую тебя, о Илона!\n"
          ]
        }
      ],
      "source": [
        "a=input(\"как тебя зовут?\")\n",
        "print(f\"приветствую тебя, о {a}!\")\n",
        "\n"
      ]
    },
    {
      "cell_type": "code",
      "source": [
        "a=input(\"какое у тебя имя? \")\n",
        "b=input(\"какая у тебя фамилия? \")\n",
        "c=input(\"сколько тебе лет? \")\n",
        "d=input(\"где ты учишься? \")\n",
        "print(\"===АНКЕТА===\")\n",
        "print(f\"имя: {a}\")\n",
        "print(f\"фамилия: {b}\")\n",
        "print(f\"врзраст: {c}\")\n",
        "print(f\"место учебы: {d}\")\n"
      ],
      "metadata": {
        "colab": {
          "base_uri": "https://localhost:8080/"
        },
        "id": "ZojH9ekozDg8",
        "outputId": "3c6b623b-a76d-4e35-b4b7-ce396a602c87"
      },
      "execution_count": 13,
      "outputs": [
        {
          "output_type": "stream",
          "name": "stdout",
          "text": [
            "какое у тебя имя? Илона\n",
            "какая у тебя фамилия? Проснева\n",
            "сколько тебе лет? 20\n",
            "где ты учишься? ПГНИУ\n",
            "===АНКЕТА===\n",
            "имя: Илона\n",
            "фамилия: Проснева\n",
            "врзраст: 20\n",
            "место учебы: ПГНИУ\n"
          ]
        }
      ]
    },
    {
      "cell_type": "code",
      "source": [
        "print(\"/\\\\_____/\\\\\",\"\\\\\\t/\", sep=\"\\n\")\n",
        "print(\" \\ ^  ^/\",\"  \\_3_/\", sep = \"\\n\")"
      ],
      "metadata": {
        "colab": {
          "base_uri": "https://localhost:8080/"
        },
        "id": "gnBVAa3a444Q",
        "outputId": "d1ae8331-6b48-40b0-94b8-f556f5030e90"
      },
      "execution_count": 12,
      "outputs": [
        {
          "output_type": "stream",
          "name": "stdout",
          "text": [
            "/\\_____/\\\n",
            "\\\t/\n",
            " \\ ^  ^/\n",
            "  \\_3_/\n"
          ]
        }
      ]
    }
  ]
}